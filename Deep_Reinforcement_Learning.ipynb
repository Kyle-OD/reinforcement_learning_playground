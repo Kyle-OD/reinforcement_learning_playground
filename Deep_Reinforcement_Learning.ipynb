{
 "cells": [
  {
   "cell_type": "code",
   "execution_count": 1,
   "metadata": {},
   "outputs": [],
   "source": [
    "import gymnasium as gym\n",
    "import random"
   ]
  },
  {
   "cell_type": "code",
   "execution_count": 2,
   "metadata": {},
   "outputs": [],
   "source": [
    "env = gym.make(\"CartPole-v1\", render_mode=\"rgb_array\")"
   ]
  },
  {
   "cell_type": "code",
   "execution_count": 3,
   "metadata": {},
   "outputs": [
    {
     "name": "stdout",
     "output_type": "stream",
     "text": [
      "Episode:0 Score:39.0\n",
      "Episode:1 Score:93.0\n",
      "Episode:2 Score:9.0\n",
      "Episode:3 Score:16.0\n",
      "Episode:4 Score:13.0\n",
      "Episode:5 Score:13.0\n",
      "Episode:6 Score:16.0\n",
      "Episode:7 Score:24.0\n",
      "Episode:8 Score:16.0\n",
      "Episode:9 Score:17.0\n"
     ]
    }
   ],
   "source": [
    "episodes = 10\n",
    "for episode in range(episodes):\n",
    "    observation, info = env.reset(seed=42)\n",
    "    terminated = False\n",
    "    score = 0\n",
    "\n",
    "    while not terminated or truncated:\n",
    "        env.render()\n",
    "        action = random.choice([0,1])\n",
    "        observation, reward, terminated, truncated, info = env.step(action)\n",
    "        score += reward\n",
    "    print('Episode:{} Score:{}'.format(episode, score))"
   ]
  },
  {
   "cell_type": "code",
   "execution_count": null,
   "metadata": {},
   "outputs": [],
   "source": [
    "env.close()"
   ]
  }
 ],
 "metadata": {
  "kernelspec": {
   "display_name": "Python 3.10.9 ('rl_agents')",
   "language": "python",
   "name": "python3"
  },
  "language_info": {
   "codemirror_mode": {
    "name": "ipython",
    "version": 3
   },
   "file_extension": ".py",
   "mimetype": "text/x-python",
   "name": "python",
   "nbconvert_exporter": "python",
   "pygments_lexer": "ipython3",
   "version": "3.10.9"
  },
  "orig_nbformat": 4,
  "vscode": {
   "interpreter": {
    "hash": "2c685e5f42faa7940050a557fad6854cbfceed2397d4464511b67d035d7ce3f8"
   }
  }
 },
 "nbformat": 4,
 "nbformat_minor": 2
}
